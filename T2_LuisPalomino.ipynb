{
 "cells": [
  {
   "cell_type": "markdown",
   "metadata": {},
   "source": [
    "# *Resumenes*\n",
    "\n",
    "## ¿Lenguaje de programación del año? Python se destaca en las últimas clasificaciones\n",
    "\n",
    "Python ha consolidado su lugar entre los tres lenguajes de programación más populares, habiendo visto el mayor aumento de cualquier lenguaje en las clasificaciones basadas en motores de búsqueda de Tiobe. \n",
    "\n",
    "Python entró entre los tres primeros en el índice de popularidad de Tiobe en septiembre, gracias a su uso en un número creciente de campos. Como señala Tiobe, a menudo es el primer idioma que se enseña en las universidades y es el idioma de referencia para el análisis estadístico, el aprendizaje automático, la creación de scripts, la programación web y la informática científica. \n",
    "\n",
    "También es el lenguaje más popular entre los piratas informáticos, gracias a su sintaxis fácil de entender, su amplia disponibilidad de tutoriales en línea y una gran cantidad de bibliotecas de software de terceros inofensivas que pueden reutilizarse para uso malicioso.\n",
    "\n",
    "## Python: 7 razones importantes por las que debería usar Python\n",
    "\n",
    "Python es uno de los 10 lenguajes de programación más populares de 2017. Python es un lenguaje de programación de alto nivel y propósito general. Además, Python, como lenguaje de programación de alto nivel, le permite concentrarse en la funcionalidad principal de la aplicación al ocuparse de las tareas de programación comunes. \n",
    "\n",
    "Aquí hay **siete** razones por las que debe considerar escribir aplicaciones de software en Python:\n",
    "1. **Código legible y mantenible**\n",
    "   * Las reglas de sintaxis de Python le permiten expresar conceptos sin escribir código adicional.\n",
    "   * Al mismo tiempo, Python, a diferencia de otros lenguajes de programación, enfatiza la legibilidad del código y le permite usar palabras clave en inglés en lugar de signos de puntuación. \n",
    "   \n",
    "   \n",
    "2. **Paradigmas de programación múltiples**\n",
    "   * Es totalmente compatible con la programación estructurada y orientada a objetos.\n",
    "   * Los paradigmas de programación y las características del lenguaje le ayudan a utilizar Python para desarrollar aplicaciones de software grandes y complejas.\n",
    "   \n",
    "   \n",
    "3. **Compatible con las principales plataformas y sistemas**\n",
    "   * Python es un lenguaje de programación interpretado. Le permite ejecutar el mismo código en múltiples plataformas sin tener que volver a compilarlo.\n",
    "   * Puede ejecutar el código de la aplicación modificado sin volver a compilar y comprobar el impacto de los cambios realizados en el código de inmediato.\n",
    "   \n",
    "\n",
    "4. **Biblioteca estándar robusta**\n",
    "   * La biblioteca estándar le permite elegir entre una amplia gama de módulos de acuerdo con sus necesidades precisas.\n",
    "   * Además, cada módulo le permite agregar funcionalidad a la aplicación Python sin escribir código adicional.\n",
    "   \n",
    "   \n",
    "5. **Muchos marcos y herramientas de código abierto**\n",
    "   * Python le ayuda a reducir significativamente los costos de desarrollo de software. Incluso puede utilizar varios marcos, bibliotecas y herramientas de desarrollo de Python de código abierto para reducir el tiempo de desarrollo sin aumentar el costo de desarrollo. \n",
    "   * Incluso tiene la opción de elegir entre una amplia gama de marcos de trabajo Python de código abierto y herramientas de desarrollo de acuerdo con sus necesidades precisas.\n",
    "   \n",
    "   \n",
    "6. **Simplifique el desarrollo de software complejo**\n",
    "   * Python puede utilizar el lenguaje de programación para desarrollar aplicaciones web y de escritorio. Además, puede utilizar Python para desarrollar aplicaciones científicas y numéricas complejas. \n",
    "   * Python está diseñado con funciones para facilitar el análisis y la visualización de datos. Puede aprovechar las funciones de análisis de datos de Python para crear soluciones de big data personalizadas sin dedicar tiempo y esfuerzo adicionales.\n",
    "   \n",
    "   \n",
    "7. **Adoptar el desarrollo basado en pruebas**\n",
    "   * Puede utilizar Python para crear un prototipo de la aplicación de software rápidamente. Además, puede crear la aplicación de software directamente desde el prototipo simplemente refactorizando el código Python. \n",
    "   * Python incluso hace que sea más fácil para usted realizar la codificación y las pruebas simultáneamente al adoptar un enfoque de desarrollo impulsado por pruebas (TDD). Puede escribir fácilmente las pruebas necesarias antes de escribir el código y utilizar las pruebas para evaluar el código de la aplicación de forma continua."
   ]
  }
 ],
 "metadata": {
  "kernelspec": {
   "display_name": "Python 3",
   "language": "python",
   "name": "python3"
  },
  "language_info": {
   "codemirror_mode": {
    "name": "ipython",
    "version": 3
   },
   "file_extension": ".py",
   "mimetype": "text/x-python",
   "name": "python",
   "nbconvert_exporter": "python",
   "pygments_lexer": "ipython3",
   "version": "3.7.4"
  }
 },
 "nbformat": 4,
 "nbformat_minor": 2
}
